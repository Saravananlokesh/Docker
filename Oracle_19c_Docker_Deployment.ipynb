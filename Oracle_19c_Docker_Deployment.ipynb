# Deploying Oracle 19c Database in Docker

This notebook provides step-by-step instructions for deploying an Oracle 19c database using Docker.
## Prerequisites

Before starting, ensure you have the following:

1. Docker installed on your system (Docker Desktop for Windows/Mac or Docker Engine for Linux)
2. At least 8GB of RAM allocated to Docker
3. At least 40GB of free disk space
4. Internet connection to download required files
## Step 1: Download Oracle Database Software

You need to download the Oracle Database 19c software from the Oracle website. Due to licensing requirements, Docker Hub does not provide official Oracle images.

1. Visit the [Oracle Database Software Downloads](https://www.oracle.com/database/technologies/oracle-database-software-downloads.html) page
2. Navigate to the Oracle Database 19c section
3. Download the "Oracle Database 19c (19.3) for Linux x86-64" ZIP file
4. Accept the license agreement and sign in with your Oracle account (create one if needed)
5. Save the downloaded file (e.g., `LINUX.X64_193000_db_home.zip`) to your working directory
## Step 2: Clone the Oracle Docker Images Repository

Oracle provides official Docker build files on GitHub to create Oracle Database container images.

Run the following commands to clone the repository:
git clone https://github.com/oracle/docker-images.git
cd docker-images/OracleDatabase/SingleInstance/dockerfiles
## Step 3: Copy the Oracle Database Software

Copy the Oracle Database ZIP file you downloaded in Step 1 to the version-specific folder in the cloned repository:
# Assuming your downloaded ZIP is in your Downloads folder
# Adjust the path as necessary
cp ~/Downloads/LINUX.X64_193000_db_home.zip 19.3.0/
## Step 4: Build the Oracle Database Docker Image

Now use the provided build script to create the Oracle Database 19c Docker image. This process can take some time depending on your system.
./buildContainerImage.sh -v 19.3.0 -e -i
The options for the build command above:
- `-v 19.3.0`: Specifies the version to build
- `-e`: Creates an Enterprise Edition image
- `-i`: Ignores MD5 checksums
# Verify the image was created successfully
docker images | grep oracle/database
## Step 5: Run the Oracle 19c Container

Now that you have built the image, you can run a container based on it. The following command creates and starts an Oracle 19c container:
docker run --name oracle19c \
  -p 1521:1521 -p 5500:5500 \
  -e ORACLE_SID=ORCLCDB \
  -e ORACLE_PDB=ORCLPDB1 \
  -e ORACLE_PWD=YourSecurePassword \
  -v /opt/oracle/oradata:/opt/oracle/oradata \
  oracle/database:19.3.0-ee
The parameters used in the above command:

- `--name oracle19c`: Names the container "oracle19c"
- `-p 1521:1521`: Maps the Oracle listener port from container to host
- `-p 5500:5500`: Maps the Oracle Enterprise Manager Express port
- `-e ORACLE_SID=ORCLCDB`: Sets the Oracle System Identifier
- `-e ORACLE_PDB=ORCLPDB1`: Sets the Pluggable Database name
- `-e ORACLE_PWD=YourSecurePassword`: Sets the password for the SYS, SYSTEM, and PDBADMIN accounts (change this to a secure password)
- `-v /opt/oracle/oradata:/opt/oracle/oradata`: Maps a directory on your host to store the database files persistently
- `oracle/database:19.3.0-ee`: The image name and tag to use

If the host directory specified by `-v` doesn't exist, Docker will create it for you. This ensures your database data persists even if the container is stopped or removed.
**Note:** When you run the container for the first time, it will take some time (can be 15-40 minutes depending on your system) to create and initialize the database. You can follow the progress in the container logs.
## Step 6: Monitor the Container Logs

If you started the container in detached mode (by adding `-d` to the run command), you can check the logs to monitor the progress:
docker logs -f oracle19c
## Step 7: Connect to the Oracle Database

Once you see a message like `DATABASE IS READY TO USE!` in the logs, you can connect to the database. You have several options:
### Option 1: Using SQL*Plus inside the container

You can connect to SQL*Plus by executing a command inside the running container:
# Connect to the container shell
docker exec -it oracle19c bash

# Then within the container, connect with SQL*Plus as sysdba
sqlplus / as sysdba

# Or connect to the PDB
sqlplus sys/YourSecurePassword@ORCLPDB1 as sysdba
### Option 2: Using SQL Developer or other Oracle client tools

You can also connect from outside the container using SQL Developer or any other Oracle client tool:

- Hostname: localhost (or your server IP)
- Port: 1521
- Service name for the PDB: ORCLPDB1
- Username: system (or any other Oracle user)
- Password: YourSecurePassword (the one you set when creating the container)

Connection string: `localhost:1521/ORCLPDB1`
### Option 3: Using Enterprise Manager Express

Oracle Enterprise Manager Express is available at:

- URL: https://localhost:5500/em
- Username: system
- Password: YourSecurePassword (the one you set when creating the container)
- Container name: ORCLCDB or ORCLPDB1
## Step 8: Container Management

Here are some common Docker commands for managing your Oracle 19c container:
# Stop the container
docker stop oracle19c

# Start the container (after it has been stopped)
docker start oracle19c

# Restart the container
docker restart oracle19c

# Check the container status
docker ps -a | grep oracle19c

# Remove the container (will lose data if not using persistent storage)
docker rm oracle19c

# Remove the image
docker rmi oracle/database:19.3.0-ee
## Advanced Configuration

### Custom Database Parameters

You can customize database parameters by creating your own initialization parameter file and mounting it into the container. Create a file named `init.ora` with your custom parameters and use it as follows:
# First, create an init.ora file with your custom parameters
cat > init.ora << EOF
memory_target=4G
processes=300
open_cursors=500
# Add other parameters as needed
EOF

# Then start the container with the file mounted
docker run --name oracle19c \
  -p 1521:1521 -p 5500:5500 \
  -e ORACLE_SID=ORCLCDB \
  -e ORACLE_PDB=ORCLPDB1 \
  -e ORACLE_PWD=YourSecurePassword \
  -v /opt/oracle/oradata:/opt/oracle/oradata \
  -v $(pwd)/init.ora:/opt/oracle/product/19c/dbhome_1/dbs/init.ora \
  oracle/database:19.3.0-ee
### Running Custom Scripts on Database Startup

You can configure the container to run custom scripts after the database is created. This is useful for creating users, schemas, tables, or other database objects automatically. Oracle's Docker image looks for custom scripts in the following locations:

- `/opt/oracle/scripts/setup`: Scripts in this directory are executed only once when the container is created.
- `/opt/oracle/scripts/startup`: Scripts in this directory are executed every time the container starts.
# Create directories for scripts
mkdir -p scripts/setup scripts/startup

# Create a setup script to create a user and table
cat > scripts/setup/01_create_user.sql << EOF
-- Create a new user
CREATE USER demo IDENTIFIED BY demo_password;
GRANT CONNECT, RESOURCE TO demo;
ALTER USER demo QUOTA UNLIMITED ON USERS;
-- Create a sample table
CREATE TABLE demo.employees (
  id NUMBER PRIMARY KEY,
  name VARCHAR2(100),
  hire_date DATE
);
-- Insert sample data
INSERT INTO demo.employees VALUES (1, 'John Doe', SYSDATE);
INSERT INTO demo.employees VALUES (2, 'Jane Smith', SYSDATE-10);
COMMIT;
EOF

# Create a startup script to show DB status
cat > scripts/startup/01_check_status.sql << EOF
-- Show tablespace usage on every startup
SELECT 
  tablespace_name, 
  ROUND(used_space * 8192 / 1024 / 1024, 2) AS used_mb,
  ROUND(tablespace_size * 8192 / 1024 / 1024, 2) AS total_mb,
  ROUND(used_percent, 2) AS used_pct
FROM dba_tablespace_usage_metrics;
EOF

# Run container with custom scripts
docker run --name oracle19c \
  -p 1521:1521 -p 5500:5500 \
  -e ORACLE_SID=ORCLCDB \
  -e ORACLE_PDB=ORCLPDB1 \
  -e ORACLE_PWD=YourSecurePassword \
  -v /opt/oracle/oradata:/opt/oracle/oradata \
  -v $(pwd)/scripts/setup:/opt/oracle/scripts/setup \
  -v $(pwd)/scripts/startup:/opt/oracle/scripts/startup \
  oracle/database:19.3.0-ee
### Using Docker Compose for Oracle 19c

For more complex deployments, Docker Compose provides a better way to manage your Oracle database container. Create a `docker-compose.yml` file to define your Oracle 19c service:
version: '3'

services:
  oracle19c:
    image: oracle/database:19.3.0-ee
    container_name: oracle19c
    ports:
      - "1521:1521"
      - "5500:5500"
    environment:
      - ORACLE_SID=ORCLCDB
      - ORACLE_PDB=ORCLPDB1
      - ORACLE_PWD=YourSecurePassword
      - ORACLE_CHARACTERSET=AL32UTF8
    volumes:
      - oracle_data:/opt/oracle/oradata
      - ./scripts/setup:/opt/oracle/scripts/setup
      - ./scripts/startup:/opt/oracle/scripts/startup
    healthcheck:
      test: ["CMD", "sqlplus", "-L", "sys/YourSecurePassword@//localhost:1521/ORCLCDB as sysdba", "< /dev/null"]
      interval: 30s
      timeout: 10s
      retries: 5
      start_period: 40m
    restart: unless-stopped
    shm_size: 1g

volumes:
  oracle_data:
    driver: local
Save this as `docker-compose.yml` in your project directory. Then run the following commands to start and manage your Oracle 19c database:
# Start the Oracle 19c container in the background
docker-compose up -d

# Check the logs
docker-compose logs -f

# Stop the container
docker-compose stop

# Start the container
docker-compose start

# Stop and remove the container (data is preserved in the named volume)
docker-compose down

# Stop and remove the container and volumes (will delete all data)
docker-compose down -v
## Backing Up Your Oracle Database

There are several approaches to backing up your Oracle 19c Docker database:
### Option 1: Using RMAN (Recovery Manager)

Oracle Recovery Manager (RMAN) is the preferred method for backing up Oracle databases. Here's how to perform a basic RMAN backup:
# Create a backup directory
mkdir -p /backup/oracle

# Grant access to the backup directory
docker exec -it oracle19c bash -c "mkdir -p /backup"
docker cp /backup/oracle oracle19c:/backup/

# Connect to the container and run RMAN
docker exec -it oracle19c bash

# Inside the container, run RMAN
rman target /

# In RMAN, execute backup commands
BACKUP DATABASE PLUS ARCHIVELOG;
BACKUP CURRENT CONTROLFILE;

# Or create a full database backup to the specified directory
BACKUP AS COMPRESSED BACKUPSET DATABASE PLUS ARCHIVELOG FORMAT '/backup/%d_%T_%U.bkp';
### Option 2: Volume Backup

Since Docker uses volumes to store data, you can back up the entire database by backing up the Docker volumes. This method requires stopping the database first for consistency:
# Stop the Oracle container
docker stop oracle19c

# Create a backup of the volume
# If using named volumes:
docker run --rm -v oracle_data:/source -v $(pwd)/backup:/backup \
  alpine sh -c "cd /source && tar czf /backup/oracle_data_$(date +%Y%m%d).tar.gz ."

# If using bind mounts:
tar czf backup/oracle_data_$(date +%Y%m%d).tar.gz -C /opt/oracle/oradata .

# Start the Oracle container again
docker start oracle19c
### Option 3: Oracle Data Pump

Oracle Data Pump is ideal for logical backups and migrating data between Oracle databases:
# Create a directory in the container to store the export files
docker exec -it oracle19c bash -c "mkdir -p /opt/oracle/dump"

# Create a directory object in the database
docker exec -it oracle19c bash -c "echo \"
CREATE OR REPLACE DIRECTORY data_pump_dir AS '/opt/oracle/dump';
GRANT READ, WRITE ON DIRECTORY data_pump_dir TO system;
EXIT;
\" | sqlplus sys/YourSecurePassword AS SYSDBA"

# Export the ORCLPDB1 database using Data Pump
docker exec -it oracle19c bash -c "expdp system/YourSecurePassword@ORCLPDB1 \
  DIRECTORY=data_pump_dir \
  DUMPFILE=expdp_ORCLPDB1_$(date +%Y%m%d).dmp \
  LOGFILE=expdp_ORCLPDB1_$(date +%Y%m%d).log \
  FULL=YES"

# Copy the exported files from the container to the host
docker cp oracle19c:/opt/oracle/dump/expdp_ORCLPDB1_$(date +%Y%m%d).dmp ./backup/
docker cp oracle19c:/opt/oracle/dump/expdp_ORCLPDB1_$(date +%Y%m%d).log ./backup/
## Performance Tuning

To optimize the performance of your Oracle 19c Docker database, consider the following adjustments:
### Memory Allocation

Oracle Database 19c in Docker defaults to using up to 2GB of memory. For better performance, allocate more memory by setting memory parameters in an init.ora file as shown earlier, or by setting parameters directly in the container:
# Connect to the container
docker exec -it oracle19c bash

# Connect to SQL*Plus as SYSDBA
sqlplus / as sysdba

# Then run these SQL commands to adjust memory
ALTER SYSTEM SET memory_target=4G SCOPE=SPFILE;
ALTER SYSTEM SET memory_max_target=4G SCOPE=SPFILE;
ALTER SYSTEM SET pga_aggregate_target=1G SCOPE=SPFILE;
ALTER SYSTEM SET sga_target=3G SCOPE=SPFILE;
SHUTDOWN IMMEDIATE;
STARTUP;
### Filesystem Performance

The performance of your Oracle database on Docker is heavily influenced by the filesystem performance of the volume mount points. To improve I/O performance:

1. Use a high-performance storage backend for Docker volumes
2. Consider using Docker volumes instead of bind mounts
3. If available, use NVMe SSDs for your Docker volume storage
4. On Linux hosts, consider using direct I/O and disabling synchronous I/O
### Container Resource Limits

When running Oracle 19c in Docker, it's important to set appropriate resource limits. You can control CPU and memory allocation using Docker's resource constraints:
# Run the container with resource constraints
docker run --name oracle19c \
  --cpus=4 \
  --memory=8g \
  --memory-swap=12g \
  --shm-size=1g \
  -p 1521:1521 -p 5500:5500 \
  -e ORACLE_SID=ORCLCDB \
  -e ORACLE_PDB=ORCLPDB1 \
  -e ORACLE_PWD=YourSecurePassword \
  -v /opt/oracle/oradata:/opt/oracle/oradata \
  oracle/database:19.3.0-ee
## Troubleshooting

Here are solutions to some common issues when deploying Oracle 19c in Docker:
### Container Fails to Start

If your container fails to start, check the following:

1. **Insufficient Resources**: Ensure your Docker host has enough memory and CPU allocated.

   ```bash
   # Check Docker resources
   docker info
   ```

2. **Mount Point Permission Issues**: Verify that the host directories mounted to the container have appropriate permissions.

   ```bash
   # Fix permissions (on Linux)
   sudo chown 54321:54321 /opt/oracle/oradata
   ```

3. **Port Conflicts**: Make sure ports 1521 and 5500 are available and not used by other services.

   ```bash
   # Check for port usage
   netstat -tuln | grep -E '1521|5500'
   ```
### Database Not Accessible

If you can't connect to the database after starting the container:

1. **Check Container Status**: Ensure the container is running and the database initialization has completed.

   ```bash
   docker ps
   docker logs oracle19c | tail -50
   ```

2. **Listener Issues**: Check if the Oracle listener is running properly.

   ```bash
   docker exec -it oracle19c bash -c "lsnrctl status"
   ```

3. **Memory Issues**: Oracle may have failed to start due to insufficient memory.

   ```bash
   docker exec -it oracle19c bash -c "cat /opt/oracle/diag/rdbms/orclcdb/ORCLCDB/trace/alert_ORCLCDB.log | tail -100"
   ```
## Best Practices for Production Use

When deploying Oracle 19c in Docker for production use, consider the following best practices:
1. **Use Oracle Container Registry**: For licensed users, Oracle provides official container images through the [Oracle Container Registry](https://container-registry.oracle.com).

2. **Regular Backups**: Implement automated backups using RMAN or Data Pump as shown earlier.

3. **Monitoring**: Set up monitoring for the Docker container and the Oracle database:
   - Monitor container resource usage (CPU, memory, I/O)
   - Set up Oracle Enterprise Manager for database monitoring
   - Consider using tools like Prometheus and Grafana for container monitoring

4. **High Availability**: Implement Oracle Data Guard with a standby database for high availability.

5. **Use Persistent Storage**: Always use Docker volumes or reliable storage for database files.

6. **Security Hardening**:
   - Avoid using default passwords
   - Restrict network access to the database ports
   - Apply Oracle security patches regularly
   - Consider using Docker secrets for password management

7. **Resource Management**: Use Docker resource constraints to prevent resource starvation on the host.

8. **Container Orchestration**: For production environments, consider using Kubernetes with the Oracle Database Operator for container orchestration.

9. **License Compliance**: Ensure you comply with Oracle licensing requirements when using Oracle in containerized environments.
## Conclusion

This notebook has provided a comprehensive guide for deploying Oracle 19c database in Docker, covering:

- Initial setup and prerequisites
- Building Oracle database Docker images
- Running and configuring the database
- Managing the container
- Database connections
- Backup strategies
- Performance tuning
- Troubleshooting
- Best practices for production use

Docker provides an excellent way to run Oracle databases in isolated, portable containers, making it easy to deploy and manage Oracle 19c instances for development, testing, and with proper planning, production environments.

Remember that Oracle database licensing requirements still apply when using Docker containers, so ensure you comply with Oracle's licensing terms.
## Common Docker Permission Issues

When working with Docker, you might encounter permission denied errors like:

```
permission denied while trying to connect to the Docker daemon socket at unix:///var/run/docker.sock
```

These errors occur when your user doesn't have the necessary permissions to interact with the Docker daemon.
### Solution 1: Add Your User to the Docker Group

The most common solution is to add your user to the `docker` group:
# Add your user to the docker group
sudo usermod -aG docker $USER

# Apply the changes without logging out
newgrp docker

# Verify that you can run Docker commands without sudo
docker info
### Solution 2: Use sudo with Docker Commands

If you can't add your user to the docker group (for example, due to security policies), you can prefix all Docker commands with `sudo`:
# Run the build script with sudo
sudo ./buildContainerImage.sh -v 19.3.0 -e -i

# Check Docker images with sudo
sudo docker images | grep oracle/database

# Run Docker container with sudo
sudo docker run --name oracle19c \
  -p 1521:1521 -p 5500:5500 \
  -e ORACLE_SID=ORCLCDB \
  -e ORACLE_PDB=ORCLPDB1 \
  -e ORACLE_PWD=YourSecurePassword \
  -v /opt/oracle/oradata:/opt/oracle/oradata \
  oracle/database:19.3.0-ee
### Solution 3: Log Out and Log Back In

After adding yourself to the Docker group with `sudo usermod -aG docker $USER`, you might need to log out and log back in for the changes to take effect. If you don't want to log out, the `newgrp docker` command used in Solution 1 provides a temporary solution.
### Solution 4: Check Docker Installation

If you continue to face permission issues even after trying the solutions above, you might need to check your Docker installation:

1. Verify that the Docker service is running:
   ```bash
   systemctl status docker
   ```

2. If the service is not running, start it:
   ```bash
   sudo systemctl start docker
   ```

3. Make sure the service starts automatically on boot:
   ```bash
   sudo systemctl enable docker
   ```

4. If the problem persists, consider reinstalling Docker:
   ```bash
   sudo apt-get purge docker-ce docker-ce-cli containerd.io
   sudo apt-get install docker-ce docker-ce-cli containerd.io
   ```
## Missing Installation Files Error

A common error during the build process is when Docker cannot find the Oracle Database installation file:

```
ERROR: failed to solve: failed to compute cache key: failed to calculate checksum of ref a4927b99-1a4c-4362-b327-65c75bb5d05b::c1w29ksu0x4dg1kgja4e95zdt: "/LINUX.X64_193000_db_home.zip": not found
```

This occurs when the Oracle installation zip file is not placed in the correct location or has a different name than expected.
### How to Fix the Missing Installation File Error

Follow these steps to resolve this issue:
1. **Verify the installation file exists**: First, check if the Oracle Database installation file is present in the version-specific directory:
# Navigate to the version-specific directory
cd ~/docker-images/OracleDatabase/SingleInstance/dockerfiles/19.3.0/

# List files to check if the Oracle installation ZIP exists
ls -la
2. **Copy the Oracle Database ZIP file**: If the installation file is not in the correct directory, you need to copy it there. Make sure you've downloaded the Oracle Database 19c ZIP file as mentioned in Step 1 of this guide:
# Copy the Oracle Database 19c zip file to the version-specific directory
# Replace ~/Downloads with the actual path where you downloaded the file
sudo cp ~/Downloads/LINUX.X64_193000_db_home.zip ~/docker-images/OracleDatabase/SingleInstance/dockerfiles/19.3.0/

# Verify that the file was copied correctly
ls -la ~/docker-images/OracleDatabase/SingleInstance/dockerfiles/19.3.0/LINUX.X64_193000_db_home.zip
3. **Run the build script again**: After ensuring the installation file is in the correct location, run the build script again:
# Navigate to the dockerfiles directory
cd ~/docker-images/OracleDatabase/SingleInstance/dockerfiles/

# Run the build script with sudo (if needed)
sudo ./buildContainerImage.sh -v 19.3.0 -e -i
### Additional Troubleshooting for Installation File Issues

If you're still encountering issues with the installation file:

1. **Check file permissions**: Ensure the Oracle installation zip file has proper read permissions:
   ```bash
   sudo chmod 644 ~/docker-images/OracleDatabase/SingleInstance/dockerfiles/19.3.0/LINUX.X64_193000_db_home.zip
   ```

2. **Verify file integrity**: Make sure the downloaded file is not corrupted:
   ```bash
   md5sum ~/docker-images/OracleDatabase/SingleInstance/dockerfiles/19.3.0/LINUX.X64_193000_db_home.zip
   ```

3. **Download location**: If you cannot access the Oracle website directly from your server, download the file to your local machine first, then transfer it to the server using scp or rsync:
   ```bash
   # From your local machine to the server
   scp LINUX.X64_193000_db_home.zip username@server:~/docker-images/OracleDatabase/SingleInstance/dockerfiles/19.3.0/
   ```

4. **Check disk space**: Make sure you have enough disk space for the build process:
   ```bash
   df -h
   ```
## Docker Credential Helper Errors

When building the Oracle 19c Docker image, you might encounter errors related to Docker credential helpers:

```
docker-credential-secretservice: error while loading shared libraries: libsecret-1.so.0: cannot open shared object file: No such file
ERROR: failed to solve: error getting credentials - err: exit status 127, out: ``
```

This error occurs because Docker is trying to use a credential helper (docker-credential-secretservice) that requires the libsecret library, but the library is not installed on your system.
### Solution 1: Install libsecret Package

The most straightforward solution is to install the required library:
# For Ubuntu/Debian systems
sudo apt-get update
sudo apt-get install -y libsecret-1-0

# For Red Hat/CentOS/Fedora systems
sudo yum install -y libsecret
### Solution 2: Disable the Docker Credential Helper

If you prefer not to install the libsecret package, you can configure Docker to not use a credential helper:
# Create or edit the Docker config file
mkdir -p ~/.docker
cat > ~/.docker/config.json << EOF
{
  "credsStore": ""
}
EOF

# Verify the content of the config file
cat ~/.docker/config.json
After modifying the config.json file, you might need to restart the Docker service for changes to take effect:

```bash
# Restart Docker service on Linux
sudo systemctl restart docker

# For Docker Desktop on Windows/Mac, restart the application
```
### Solution 3: Fix D-Bus Secret Service Error

If you see the following error:

```
ERROR: failed to solve: error getting credentials - err: exit status 1, out: `GDBus.Error:org.freedesktop.DBus.Error.ServiceUnknown: The name org.freedesktop.secrets was not provided by any .service files`
```

This indicates that Docker is trying to use the D-Bus secret service for credentials, but the service is not running or not properly configured. This commonly happens in WSL (Windows Subsystem for Linux) or headless Linux environments.
# The simplest solution is to disable the credential helper completely
mkdir -p ~/.docker
cat > ~/.docker/config.json << EOF
{
  "credsStore": "",
  "credHelpers": {}
}
EOF

# Verify the content of the config file
cat ~/.docker/config.json

# Restart Docker service (if needed)
sudo systemctl restart docker
Alternatively, you can also try setting the credentials store to `pass` if you have `pass` installed:

```bash
# Install pass (password manager)
sudo apt-get install -y pass gnupg2

# Initialize pass with a GPG key
gpg --gen-key  # Follow the prompts to create a key
pass init "Your Name <your.email@example.com>"  # Use the email from your GPG key

# Configure Docker to use pass
mkdir -p ~/.docker
cat > ~/.docker/config.json << EOF
{
  "credsStore": "pass"
}
EOF
```

However, completely disabling the credential helper (as shown in the first solution) is usually the simplest approach for Docker in non-interactive environments like WSL or headless servers.
### Solution 4: Docker Credential Helper in WSL2

If you're using Windows Subsystem for Linux (WSL2), which is indicated by your kernel version (`6.6.87.2-microsoft-standard-WSL2`), there are some specific steps that can help resolve credential helper issues:
# Create a special config for WSL2 environments
mkdir -p ~/.docker
cat > ~/.docker/config.json << EOF
{
  "credStore": "",
  "credsStore": "",
  "auths": {},
  "experimental": "disabled",
  "features": {
    "buildkit": true
  }
}
EOF

# Change the permissions of the config file
chmod 600 ~/.docker/config.json

# Verify the content
cat ~/.docker/config.json

# Restart Docker service (if needed)
# In WSL2, you might need to restart Docker Desktop from Windows instead
sudo service docker restart
### Solution 5: Use --build-arg option for Offline Building

If you continue to face issues with Docker attempting to pull images from the internet, you can try using the `--build-arg` option to prevent Docker from pulling base images from Docker Hub during the build process:
# First, pull the oraclelinux:7-slim image explicitly
docker pull oraclelinux:7-slim

# Then modify the build command to use --network=none
docker buildx build --network=none \
  --build-arg BASE_IMAGE=oraclelinux:7-slim \
  -t oracle/database:19.3.0-ee \
  -f Dockerfile.ee \
  --load \
  19.3.0/

# Alternatively, you can try using the --no-cache option
sudo ./buildContainerImage.sh -v 19.3.0 -e -i --no-cache
### Solution 6: Check Network Connectivity

The error could also be related to network connectivity issues, particularly in WSL2 environments. Sometimes Docker in WSL2 has trouble connecting to the Docker Hub registry. Try these steps:
# Check if you can ping Docker Hub
ping docker.io

# Check if your DNS resolution is working
nslookup docker.io

# For WSL2, sometimes restarting the WSL instance can help
# Exit WSL and from a Windows command prompt run:
# wsl --shutdown
# then restart your WSL terminal

# You can also try setting explicit DNS in WSL
# Create or edit /etc/wsl.conf
sudo bash -c 'cat > /etc/wsl.conf << EOF
[network]
generateResolvConf = false
EOF'

# Create or edit /etc/resolv.conf
sudo bash -c 'cat > /etc/resolv.conf << EOF
nameserver 8.8.8.8
nameserver 8.8.4.4
EOF'

# Make resolv.conf immutable to prevent WSL from changing it
sudo chattr +i /etc/resolv.conf

# Then restart WSL from Windows command prompt: wsl --shutdown
### Understanding Docker Configuration Warnings

When building your Oracle 19c Docker image, you might see warnings like:

```
WARNING: Error parsing config file (/home/smahal430/.docker/config.json): json: cannot unmarshal bool into Go struct field ConfigFile.features of type string
```

These warnings occur due to incorrect JSON formatting in your Docker configuration file but are generally not critical and won't prevent the image from being built successfully.
# Fix the Docker config file format
mkdir -p ~/.docker
cat > ~/.docker/config.json << EOF
{
  "credsStore": "",
  "auths": {},
  "experimental": "disabled",
  "features": {
    "buildkit": true
  }
}
EOF

# Set proper permissions
chmod 600 ~/.docker/config.json

# Verify the content
cat ~/.docker/config.json
## Verifying the Successful Build

After seeing the message "Build completed" and the image is listed as ready to be extended (`oracle/database:19.3.0-ee`), you have successfully built the Oracle 19c Docker image.

The warnings about the Docker configuration file are not critical and did not interfere with the build process. You can verify the image has been created with:
# List all Docker images to verify the Oracle database image exists
docker images | grep oracle/database

# Check the image details
docker image inspect oracle/database:19.3.0-ee
## Directory Permission Issues

When running the Oracle 19c container, you might encounter errors related to directory permissions, such as:

```
Cannot create directory "/opt/oracle/oradata/ORCLCDB".
mkdir: cannot create directory '/opt/oracle/oradata/dbconfig': Permission denied
```

This occurs because the Docker container runs as the `oracle` user (with UID 54321) and needs write permissions to the mounted volume.
### Solution: Set the Correct Permissions

To fix this issue, you need to create the directory structure with the correct ownership before running the container:
# Create the necessary directories
sudo mkdir -p /opt/oracle/oradata

# Set the correct ownership - Oracle container uses UID 54321 (oracle user)
sudo chown -R 54321:54321 /opt/oracle/oradata

# Set the correct permissions
sudo chmod -R 775 /opt/oracle/oradata

# Verify the permissions
ls -la /opt/oracle
### Cleaning Up Previous Container

If you've already tried to start a container and it failed, you should first remove that failed container before trying again:
# Stop the failed container (if it's still running)
docker stop oracle19c

# Remove the failed container
docker rm oracle19c

# Verify that the container has been removed
docker ps -a | grep oracle19c
### Using a Stronger Password

Your error log shows several warnings about the password not meeting Oracle's recommended standards:

```
[WARNING] [DBT-06208] The 'SYS' password entered does not conform to the Oracle recommended standards.
```

While this is just a warning and not an error, it's good practice to use a stronger password that meets Oracle's standards:
# Run the container with a stronger password (meets Oracle standards)
docker run --name oracle19c \
  -p 1521:1521 -p 5500:5500 \
  -e ORACLE_SID=ORCLCDB \
  -e ORACLE_PDB=ORCLPDB1 \
  -e ORACLE_PWD=Oracle_123# \
  -v /opt/oracle/oradata:/opt/oracle/oradata \
  oracle/database:19.3.0-ee
### Increasing Shared Memory

Oracle database requires adequate shared memory to function properly. You can increase the shared memory available to the container by using the `--shm-size` parameter:
# Run the container with increased shared memory
docker run --name oracle19c \
  --shm-size=1g \
  -p 1521:1521 -p 5500:5500 \
  -e ORACLE_SID=ORCLCDB \
  -e ORACLE_PDB=ORCLPDB1 \
  -e ORACLE_PWD=Oracle_123# \
  -v /opt/oracle/oradata:/opt/oracle/oradata \
  oracle/database:19.3.0-ee
### Using Docker Named Volumes Instead of Bind Mounts

Another approach that often works better is to use Docker named volumes instead of bind mounts. Named volumes are fully managed by Docker and can avoid permission issues:
# Create a Docker named volume for Oracle data
docker volume create oracle_data

# Run the container using the named volume
docker run --name oracle19c \
  --shm-size=1g \
  -p 1521:1521 -p 5500:5500 \
  -e ORACLE_SID=ORCLCDB \
  -e ORACLE_PDB=ORCLPDB1 \
  -e ORACLE_PWD=Oracle_123# \
  -v oracle_data:/opt/oracle/oradata \
  oracle/database:19.3.0-ee

# Check the volume details
docker volume inspect oracle_data
## Verifying Successful Oracle Database Startup

When your Oracle database has successfully started, you'll see the following message in the container logs:

```
#########################
DATABASE IS READY TO USE!
#########################
```

This indicates that the database initialization process has completed successfully and the database is now ready to accept connections.
# Check if the container is running
docker ps | grep oracle19c

# See container details (should show container is running)
docker inspect oracle19c --format='{{.State.Status}}'

# Check Oracle listener status from within the container
docker exec -it oracle19c bash -c "lsnrctl status"
## Connecting to Your Oracle Database

Now that your Oracle database is running successfully, you can connect to it using SQL*Plus inside the container or any Oracle client tool from your host system.
# Connect to SQL*Plus as SYS user within the container
docker exec -it oracle19c sqlplus sys/Oracle_123#@ORCLCDB as sysdba

# Connect to the PDB
docker exec -it oracle19c sqlplus system/Oracle_123#@ORCLPDB1

# Run a simple query to test the connection
docker exec -it oracle19c sqlplus -S system/Oracle_123#@ORCLPDB1 << EOF
SELECT instance_name, status, database_status FROM v\$instance;
EXIT;
EOF
